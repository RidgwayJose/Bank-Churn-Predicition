{
 "cells": [
  {
   "cell_type": "code",
   "execution_count": 1,
   "metadata": {},
   "outputs": [],
   "source": [
    "import mlflow"
   ]
  },
  {
   "cell_type": "code",
   "execution_count": 2,
   "metadata": {},
   "outputs": [],
   "source": [
    "#conexion hacia el server de mlflow\n",
    "mlflow.set_tracking_uri(\"http://127.0.0.1:5000/\")"
   ]
  },
  {
   "cell_type": "code",
   "execution_count": 3,
   "metadata": {},
   "outputs": [
    {
     "data": {
      "text/html": [
       "<div>\n",
       "<style scoped>\n",
       "    .dataframe tbody tr th:only-of-type {\n",
       "        vertical-align: middle;\n",
       "    }\n",
       "\n",
       "    .dataframe tbody tr th {\n",
       "        vertical-align: top;\n",
       "    }\n",
       "\n",
       "    .dataframe thead th {\n",
       "        text-align: right;\n",
       "    }\n",
       "</style>\n",
       "<table border=\"1\" class=\"dataframe\">\n",
       "  <thead>\n",
       "    <tr style=\"text-align: right;\">\n",
       "      <th></th>\n",
       "      <th>id</th>\n",
       "      <th>CustomerId</th>\n",
       "      <th>Surname</th>\n",
       "      <th>CreditScore</th>\n",
       "      <th>Geography</th>\n",
       "      <th>Gender</th>\n",
       "      <th>Age</th>\n",
       "      <th>Tenure</th>\n",
       "      <th>Balance</th>\n",
       "      <th>NumOfProducts</th>\n",
       "      <th>HasCrCard</th>\n",
       "      <th>IsActiveMember</th>\n",
       "      <th>EstimatedSalary</th>\n",
       "      <th>Exited</th>\n",
       "    </tr>\n",
       "  </thead>\n",
       "  <tbody>\n",
       "    <tr>\n",
       "      <th>0</th>\n",
       "      <td>0</td>\n",
       "      <td>15674932</td>\n",
       "      <td>Okwudilichukwu</td>\n",
       "      <td>668</td>\n",
       "      <td>France</td>\n",
       "      <td>Male</td>\n",
       "      <td>33.0</td>\n",
       "      <td>3</td>\n",
       "      <td>0.00</td>\n",
       "      <td>2</td>\n",
       "      <td>1.0</td>\n",
       "      <td>0.0</td>\n",
       "      <td>181449.97</td>\n",
       "      <td>0</td>\n",
       "    </tr>\n",
       "    <tr>\n",
       "      <th>1</th>\n",
       "      <td>1</td>\n",
       "      <td>15749177</td>\n",
       "      <td>Okwudiliolisa</td>\n",
       "      <td>627</td>\n",
       "      <td>France</td>\n",
       "      <td>Male</td>\n",
       "      <td>33.0</td>\n",
       "      <td>1</td>\n",
       "      <td>0.00</td>\n",
       "      <td>2</td>\n",
       "      <td>1.0</td>\n",
       "      <td>1.0</td>\n",
       "      <td>49503.50</td>\n",
       "      <td>0</td>\n",
       "    </tr>\n",
       "    <tr>\n",
       "      <th>2</th>\n",
       "      <td>2</td>\n",
       "      <td>15694510</td>\n",
       "      <td>Hsueh</td>\n",
       "      <td>678</td>\n",
       "      <td>France</td>\n",
       "      <td>Male</td>\n",
       "      <td>40.0</td>\n",
       "      <td>10</td>\n",
       "      <td>0.00</td>\n",
       "      <td>2</td>\n",
       "      <td>1.0</td>\n",
       "      <td>0.0</td>\n",
       "      <td>184866.69</td>\n",
       "      <td>0</td>\n",
       "    </tr>\n",
       "    <tr>\n",
       "      <th>3</th>\n",
       "      <td>3</td>\n",
       "      <td>15741417</td>\n",
       "      <td>Kao</td>\n",
       "      <td>581</td>\n",
       "      <td>France</td>\n",
       "      <td>Male</td>\n",
       "      <td>34.0</td>\n",
       "      <td>2</td>\n",
       "      <td>148882.54</td>\n",
       "      <td>1</td>\n",
       "      <td>1.0</td>\n",
       "      <td>1.0</td>\n",
       "      <td>84560.88</td>\n",
       "      <td>0</td>\n",
       "    </tr>\n",
       "    <tr>\n",
       "      <th>4</th>\n",
       "      <td>4</td>\n",
       "      <td>15766172</td>\n",
       "      <td>Chiemenam</td>\n",
       "      <td>716</td>\n",
       "      <td>Spain</td>\n",
       "      <td>Male</td>\n",
       "      <td>33.0</td>\n",
       "      <td>5</td>\n",
       "      <td>0.00</td>\n",
       "      <td>2</td>\n",
       "      <td>1.0</td>\n",
       "      <td>1.0</td>\n",
       "      <td>15068.83</td>\n",
       "      <td>0</td>\n",
       "    </tr>\n",
       "    <tr>\n",
       "      <th>...</th>\n",
       "      <td>...</td>\n",
       "      <td>...</td>\n",
       "      <td>...</td>\n",
       "      <td>...</td>\n",
       "      <td>...</td>\n",
       "      <td>...</td>\n",
       "      <td>...</td>\n",
       "      <td>...</td>\n",
       "      <td>...</td>\n",
       "      <td>...</td>\n",
       "      <td>...</td>\n",
       "      <td>...</td>\n",
       "      <td>...</td>\n",
       "      <td>...</td>\n",
       "    </tr>\n",
       "    <tr>\n",
       "      <th>165029</th>\n",
       "      <td>165029</td>\n",
       "      <td>15667085</td>\n",
       "      <td>Meng</td>\n",
       "      <td>667</td>\n",
       "      <td>Spain</td>\n",
       "      <td>Female</td>\n",
       "      <td>33.0</td>\n",
       "      <td>2</td>\n",
       "      <td>0.00</td>\n",
       "      <td>1</td>\n",
       "      <td>1.0</td>\n",
       "      <td>1.0</td>\n",
       "      <td>131834.75</td>\n",
       "      <td>0</td>\n",
       "    </tr>\n",
       "    <tr>\n",
       "      <th>165030</th>\n",
       "      <td>165030</td>\n",
       "      <td>15665521</td>\n",
       "      <td>Okechukwu</td>\n",
       "      <td>792</td>\n",
       "      <td>France</td>\n",
       "      <td>Male</td>\n",
       "      <td>35.0</td>\n",
       "      <td>3</td>\n",
       "      <td>0.00</td>\n",
       "      <td>1</td>\n",
       "      <td>0.0</td>\n",
       "      <td>0.0</td>\n",
       "      <td>131834.45</td>\n",
       "      <td>0</td>\n",
       "    </tr>\n",
       "    <tr>\n",
       "      <th>165031</th>\n",
       "      <td>165031</td>\n",
       "      <td>15664752</td>\n",
       "      <td>Hsia</td>\n",
       "      <td>565</td>\n",
       "      <td>France</td>\n",
       "      <td>Male</td>\n",
       "      <td>31.0</td>\n",
       "      <td>5</td>\n",
       "      <td>0.00</td>\n",
       "      <td>1</td>\n",
       "      <td>1.0</td>\n",
       "      <td>1.0</td>\n",
       "      <td>127429.56</td>\n",
       "      <td>0</td>\n",
       "    </tr>\n",
       "    <tr>\n",
       "      <th>165032</th>\n",
       "      <td>165032</td>\n",
       "      <td>15689614</td>\n",
       "      <td>Hsiung</td>\n",
       "      <td>554</td>\n",
       "      <td>Spain</td>\n",
       "      <td>Female</td>\n",
       "      <td>30.0</td>\n",
       "      <td>7</td>\n",
       "      <td>161533.00</td>\n",
       "      <td>1</td>\n",
       "      <td>0.0</td>\n",
       "      <td>1.0</td>\n",
       "      <td>71173.03</td>\n",
       "      <td>0</td>\n",
       "    </tr>\n",
       "    <tr>\n",
       "      <th>165033</th>\n",
       "      <td>165033</td>\n",
       "      <td>15732798</td>\n",
       "      <td>Ulyanov</td>\n",
       "      <td>850</td>\n",
       "      <td>France</td>\n",
       "      <td>Male</td>\n",
       "      <td>31.0</td>\n",
       "      <td>1</td>\n",
       "      <td>0.00</td>\n",
       "      <td>1</td>\n",
       "      <td>1.0</td>\n",
       "      <td>0.0</td>\n",
       "      <td>61581.79</td>\n",
       "      <td>1</td>\n",
       "    </tr>\n",
       "  </tbody>\n",
       "</table>\n",
       "<p>165034 rows × 14 columns</p>\n",
       "</div>"
      ],
      "text/plain": [
       "            id  CustomerId         Surname  CreditScore Geography  Gender  \\\n",
       "0            0    15674932  Okwudilichukwu          668    France    Male   \n",
       "1            1    15749177   Okwudiliolisa          627    France    Male   \n",
       "2            2    15694510           Hsueh          678    France    Male   \n",
       "3            3    15741417             Kao          581    France    Male   \n",
       "4            4    15766172       Chiemenam          716     Spain    Male   \n",
       "...        ...         ...             ...          ...       ...     ...   \n",
       "165029  165029    15667085            Meng          667     Spain  Female   \n",
       "165030  165030    15665521       Okechukwu          792    France    Male   \n",
       "165031  165031    15664752            Hsia          565    France    Male   \n",
       "165032  165032    15689614          Hsiung          554     Spain  Female   \n",
       "165033  165033    15732798         Ulyanov          850    France    Male   \n",
       "\n",
       "         Age  Tenure    Balance  NumOfProducts  HasCrCard  IsActiveMember  \\\n",
       "0       33.0       3       0.00              2        1.0             0.0   \n",
       "1       33.0       1       0.00              2        1.0             1.0   \n",
       "2       40.0      10       0.00              2        1.0             0.0   \n",
       "3       34.0       2  148882.54              1        1.0             1.0   \n",
       "4       33.0       5       0.00              2        1.0             1.0   \n",
       "...      ...     ...        ...            ...        ...             ...   \n",
       "165029  33.0       2       0.00              1        1.0             1.0   \n",
       "165030  35.0       3       0.00              1        0.0             0.0   \n",
       "165031  31.0       5       0.00              1        1.0             1.0   \n",
       "165032  30.0       7  161533.00              1        0.0             1.0   \n",
       "165033  31.0       1       0.00              1        1.0             0.0   \n",
       "\n",
       "        EstimatedSalary  Exited  \n",
       "0             181449.97       0  \n",
       "1              49503.50       0  \n",
       "2             184866.69       0  \n",
       "3              84560.88       0  \n",
       "4              15068.83       0  \n",
       "...                 ...     ...  \n",
       "165029        131834.75       0  \n",
       "165030        131834.45       0  \n",
       "165031        127429.56       0  \n",
       "165032         71173.03       0  \n",
       "165033         61581.79       1  \n",
       "\n",
       "[165034 rows x 14 columns]"
      ]
     },
     "execution_count": 3,
     "metadata": {},
     "output_type": "execute_result"
    }
   ],
   "source": [
    "import pandas as pd\n",
    "data = pd.read_csv('../Data/train.csv')\n",
    "data"
   ]
  },
  {
   "cell_type": "code",
   "execution_count": 4,
   "metadata": {},
   "outputs": [],
   "source": [
    "# Creacion del cliente\n",
    "client = mlflow.tracking.MlflowClient()"
   ]
  },
  {
   "cell_type": "code",
   "execution_count": 5,
   "metadata": {},
   "outputs": [],
   "source": [
    "experiments=client.search_experiments()"
   ]
  },
  {
   "cell_type": "code",
   "execution_count": 6,
   "metadata": {},
   "outputs": [
    {
     "data": {
      "text/plain": [
       "[<Experiment: artifact_location='file:///e:/User/Documents/Rid/DMC/Diplomado%20Data%20Architect/ML/Eval_Dar5/notebooks/mlruns/174269768005723102', creation_time=1729576926354, experiment_id='174269768005723102', last_update_time=1729576926354, lifecycle_stage='active', name='Bank_Churn', tags={}>,\n",
       " <Experiment: artifact_location='mlflow-artifacts:/0', creation_time=1729576898536, experiment_id='0', last_update_time=1729576898536, lifecycle_stage='active', name='Default', tags={}>]"
      ]
     },
     "execution_count": 6,
     "metadata": {},
     "output_type": "execute_result"
    }
   ],
   "source": [
    "experiments"
   ]
  },
  {
   "cell_type": "code",
   "execution_count": 7,
   "metadata": {},
   "outputs": [],
   "source": [
    "experiment=list(filter(lambda k:k.name=='Bank_Churn',experiments))[0]"
   ]
  },
  {
   "cell_type": "code",
   "execution_count": 8,
   "metadata": {},
   "outputs": [
    {
     "data": {
      "text/plain": [
       "<Experiment: artifact_location='file:///e:/User/Documents/Rid/DMC/Diplomado%20Data%20Architect/ML/Eval_Dar5/notebooks/mlruns/174269768005723102', creation_time=1729576926354, experiment_id='174269768005723102', last_update_time=1729576926354, lifecycle_stage='active', name='Bank_Churn', tags={}>"
      ]
     },
     "execution_count": 8,
     "metadata": {},
     "output_type": "execute_result"
    }
   ],
   "source": [
    "experiment"
   ]
  },
  {
   "cell_type": "code",
   "execution_count": 9,
   "metadata": {},
   "outputs": [],
   "source": [
    "experiment_id =experiment.experiment_id"
   ]
  },
  {
   "cell_type": "code",
   "execution_count": 10,
   "metadata": {},
   "outputs": [
    {
     "data": {
      "text/plain": [
       "'174269768005723102'"
      ]
     },
     "execution_count": 10,
     "metadata": {},
     "output_type": "execute_result"
    }
   ],
   "source": [
    "experiment_id"
   ]
  },
  {
   "cell_type": "code",
   "execution_count": 11,
   "metadata": {},
   "outputs": [],
   "source": [
    "runs=client.search_runs(experiment_ids=experiment_id,\n",
    "                        filter_string=\"\",\n",
    "                        run_view_type=mlflow.entities.ViewType.ACTIVE_ONLY,\n",
    "                        max_results=3,\n",
    "                        order_by=[\"metrics.R2 DESC\"]\n",
    "                        )# ordenar por R2 desc porque va de 0 a 1"
   ]
  },
  {
   "cell_type": "code",
   "execution_count": 12,
   "metadata": {},
   "outputs": [
    {
     "data": {
      "text/plain": [
       "[<Run: data=<RunData: metrics={'TT': 2.4}, params={'bootstrap': 'True',\n",
       "  'ccp_alpha': '0.0',\n",
       "  'class_weight': 'None',\n",
       "  'criterion': 'gini',\n",
       "  'max_depth': '10',\n",
       "  'max_features': 'sqrt',\n",
       "  'max_leaf_nodes': 'None',\n",
       "  'max_samples': 'None',\n",
       "  'min_impurity_decrease': '0.0',\n",
       "  'min_samples_leaf': '1',\n",
       "  'min_samples_split': '2',\n",
       "  'min_weight_fraction_leaf': '0.0',\n",
       "  'monotonic_cst': 'None',\n",
       "  'n_estimators': '100',\n",
       "  'n_jobs': '-1',\n",
       "  'oob_score': 'False',\n",
       "  'random_state': '123',\n",
       "  'verbose': '0',\n",
       "  'warm_start': 'False'}, tags={'Run ID': 'b052583d44b84a86a1e94d59268687d0',\n",
       "  'Run Time': '2.57',\n",
       "  'Source': 'finalize_model',\n",
       "  'URI': '14f46ec0',\n",
       "  'USI': '9c75',\n",
       "  'mlflow.log-model.history': '[{\"run_id\": \"b052583d44b84a86a1e94d59268687d0\", '\n",
       "                              '\"artifact_path\": \"model\", \"utc_time_created\": '\n",
       "                              '\"2024-10-22 07:12:57.827031\", \"model_uuid\": '\n",
       "                              '\"f55e185193144a2a92370f71a25a7d2b\", \"flavors\": '\n",
       "                              '{\"python_function\": {\"model_path\": \"model.pkl\", '\n",
       "                              '\"predict_fn\": \"predict\", \"loader_module\": '\n",
       "                              '\"mlflow.sklearn\", \"python_version\": \"3.11.1\", '\n",
       "                              '\"env\": {\"conda\": \"conda.yaml\", \"virtualenv\": '\n",
       "                              '\"python_env.yaml\"}}, \"sklearn\": '\n",
       "                              '{\"pickled_model\": \"model.pkl\", '\n",
       "                              '\"sklearn_version\": \"1.4.2\", '\n",
       "                              '\"serialization_format\": \"cloudpickle\", \"code\": '\n",
       "                              'null}}}]',\n",
       "  'mlflow.parentRunId': 'c47d5a0376284d4d81844955dd777bfb',\n",
       "  'mlflow.runName': 'Random Forest Classifier',\n",
       "  'mlflow.source.git.commit': '62c4b610800d1d043b63de284a64050e2d563c41',\n",
       "  'mlflow.source.name': 'e:\\\\User\\\\Documents\\\\Rid\\\\DMC\\\\Diplomado Data '\n",
       "                        'Architect\\\\ML\\\\Eval_Dar5\\\\mlopsenv\\\\Lib\\\\site-packages\\\\ipykernel_launcher.py',\n",
       "  'mlflow.source.type': 'LOCAL',\n",
       "  'mlflow.user': 'User'}>, info=<RunInfo: artifact_uri='file:///e:/User/Documents/Rid/DMC/Diplomado%20Data%20Architect/ML/Eval_Dar5/notebooks/mlruns/174269768005723102/b052583d44b84a86a1e94d59268687d0/artifacts', end_time=1729581177897, experiment_id='174269768005723102', lifecycle_stage='active', run_id='b052583d44b84a86a1e94d59268687d0', run_name='Random Forest Classifier', run_uuid='b052583d44b84a86a1e94d59268687d0', start_time=1729581177678, status='FINISHED', user_id='User'>, inputs=<RunInputs: dataset_inputs=[]>>,\n",
       " <Run: data=<RunData: metrics={'AUC': 0.8879,\n",
       "  'Accuracy': 0.8645,\n",
       "  'F1': 0.6178,\n",
       "  'Kappa': 0.5391,\n",
       "  'MCC': 0.5544,\n",
       "  'Prec': 0.766,\n",
       "  'Recall': 0.5176,\n",
       "  'TT': 1.68}, params={'bootstrap': 'True',\n",
       "  'ccp_alpha': '0.0',\n",
       "  'class_weight': 'None',\n",
       "  'criterion': 'gini',\n",
       "  'max_depth': '10',\n",
       "  'max_features': 'sqrt',\n",
       "  'max_leaf_nodes': 'None',\n",
       "  'max_samples': 'None',\n",
       "  'min_impurity_decrease': '0.0',\n",
       "  'min_samples_leaf': '1',\n",
       "  'min_samples_split': '2',\n",
       "  'min_weight_fraction_leaf': '0.0',\n",
       "  'monotonic_cst': 'None',\n",
       "  'n_estimators': '100',\n",
       "  'n_jobs': '-1',\n",
       "  'oob_score': 'False',\n",
       "  'random_state': '123',\n",
       "  'verbose': '0',\n",
       "  'warm_start': 'False'}, tags={'Run ID': 'b096042694244649a06fe78f5f0b2548',\n",
       "  'Run Time': '71.25',\n",
       "  'Source': 'tune_model',\n",
       "  'URI': 'f980c119',\n",
       "  'USI': '9c75',\n",
       "  'mlflow.log-model.history': '[{\"run_id\": \"b096042694244649a06fe78f5f0b2548\", '\n",
       "                              '\"artifact_path\": \"model\", \"utc_time_created\": '\n",
       "                              '\"2024-10-22 06:08:35.050607\", \"model_uuid\": '\n",
       "                              '\"e6cf11b9cecb4def9fa8477dec62c0e5\", \"flavors\": '\n",
       "                              '{\"python_function\": {\"model_path\": \"model.pkl\", '\n",
       "                              '\"predict_fn\": \"predict\", \"loader_module\": '\n",
       "                              '\"mlflow.sklearn\", \"python_version\": \"3.11.1\", '\n",
       "                              '\"env\": {\"conda\": \"conda.yaml\", \"virtualenv\": '\n",
       "                              '\"python_env.yaml\"}}, \"sklearn\": '\n",
       "                              '{\"pickled_model\": \"model.pkl\", '\n",
       "                              '\"sklearn_version\": \"1.4.2\", '\n",
       "                              '\"serialization_format\": \"cloudpickle\", \"code\": '\n",
       "                              'null}}}]',\n",
       "  'mlflow.parentRunId': 'c47d5a0376284d4d81844955dd777bfb',\n",
       "  'mlflow.runName': 'Random Forest Classifier',\n",
       "  'mlflow.source.git.commit': '62c4b610800d1d043b63de284a64050e2d563c41',\n",
       "  'mlflow.source.name': 'e:\\\\User\\\\Documents\\\\Rid\\\\DMC\\\\Diplomado Data '\n",
       "                        'Architect\\\\ML\\\\Eval_Dar5\\\\mlopsenv\\\\Lib\\\\site-packages\\\\ipykernel_launcher.py',\n",
       "  'mlflow.source.type': 'LOCAL',\n",
       "  'mlflow.user': 'User'}>, info=<RunInfo: artifact_uri='file:///e:/User/Documents/Rid/DMC/Diplomado%20Data%20Architect/ML/Eval_Dar5/notebooks/mlruns/174269768005723102/b096042694244649a06fe78f5f0b2548/artifacts', end_time=1729577315094, experiment_id='174269768005723102', lifecycle_stage='active', run_id='b096042694244649a06fe78f5f0b2548', run_name='Random Forest Classifier', run_uuid='b096042694244649a06fe78f5f0b2548', start_time=1729577314475, status='FINISHED', user_id='User'>, inputs=<RunInputs: dataset_inputs=[]>>,\n",
       " <Run: data=<RunData: metrics={'AUC': 0.8736,\n",
       "  'Accuracy': 0.8585,\n",
       "  'F1': 0.6163,\n",
       "  'Kappa': 0.5319,\n",
       "  'MCC': 0.5408,\n",
       "  'Prec': 0.7232,\n",
       "  'Recall': 0.537,\n",
       "  'TT': 2.73}, params={'bootstrap': 'True',\n",
       "  'ccp_alpha': '0.0',\n",
       "  'class_weight': 'None',\n",
       "  'criterion': 'gini',\n",
       "  'max_depth': 'None',\n",
       "  'max_features': 'sqrt',\n",
       "  'max_leaf_nodes': 'None',\n",
       "  'max_samples': 'None',\n",
       "  'min_impurity_decrease': '0.0',\n",
       "  'min_samples_leaf': '1',\n",
       "  'min_samples_split': '2',\n",
       "  'min_weight_fraction_leaf': '0.0',\n",
       "  'monotonic_cst': 'None',\n",
       "  'n_estimators': '100',\n",
       "  'n_jobs': '-1',\n",
       "  'oob_score': 'False',\n",
       "  'random_state': '123',\n",
       "  'verbose': '0',\n",
       "  'warm_start': 'False'}, tags={'Run ID': '050acbaa643d4d4d91fbbdee718b75bc',\n",
       "  'Run Time': '27.39',\n",
       "  'Source': 'create_model',\n",
       "  'URI': '3bc04465',\n",
       "  'USI': '9c75',\n",
       "  'mlflow.log-model.history': '[{\"run_id\": \"050acbaa643d4d4d91fbbdee718b75bc\", '\n",
       "                              '\"artifact_path\": \"model\", \"utc_time_created\": '\n",
       "                              '\"2024-10-22 06:02:58.582554\", \"model_uuid\": '\n",
       "                              '\"fc4f6788258c4c54a8fd7755c8b2051b\", \"flavors\": '\n",
       "                              '{\"python_function\": {\"model_path\": \"model.pkl\", '\n",
       "                              '\"predict_fn\": \"predict\", \"loader_module\": '\n",
       "                              '\"mlflow.sklearn\", \"python_version\": \"3.11.1\", '\n",
       "                              '\"env\": {\"conda\": \"conda.yaml\", \"virtualenv\": '\n",
       "                              '\"python_env.yaml\"}}, \"sklearn\": '\n",
       "                              '{\"pickled_model\": \"model.pkl\", '\n",
       "                              '\"sklearn_version\": \"1.4.2\", '\n",
       "                              '\"serialization_format\": \"cloudpickle\", \"code\": '\n",
       "                              'null}}}]',\n",
       "  'mlflow.parentRunId': 'c47d5a0376284d4d81844955dd777bfb',\n",
       "  'mlflow.runName': 'Random Forest Classifier',\n",
       "  'mlflow.source.git.commit': '62c4b610800d1d043b63de284a64050e2d563c41',\n",
       "  'mlflow.source.name': 'e:\\\\User\\\\Documents\\\\Rid\\\\DMC\\\\Diplomado Data '\n",
       "                        'Architect\\\\ML\\\\Eval_Dar5\\\\mlopsenv\\\\Lib\\\\site-packages\\\\ipykernel_launcher.py',\n",
       "  'mlflow.source.type': 'LOCAL',\n",
       "  'mlflow.user': 'User'}>, info=<RunInfo: artifact_uri='file:///e:/User/Documents/Rid/DMC/Diplomado%20Data%20Architect/ML/Eval_Dar5/notebooks/mlruns/174269768005723102/050acbaa643d4d4d91fbbdee718b75bc/artifacts', end_time=1729576981222, experiment_id='174269768005723102', lifecycle_stage='active', run_id='050acbaa643d4d4d91fbbdee718b75bc', run_name='Random Forest Classifier', run_uuid='050acbaa643d4d4d91fbbdee718b75bc', start_time=1729576977833, status='FINISHED', user_id='User'>, inputs=<RunInputs: dataset_inputs=[]>>]"
      ]
     },
     "execution_count": 12,
     "metadata": {},
     "output_type": "execute_result"
    }
   ],
   "source": [
    "runs"
   ]
  },
  {
   "cell_type": "code",
   "execution_count": 13,
   "metadata": {},
   "outputs": [],
   "source": [
    "runs=runs[0]"
   ]
  },
  {
   "cell_type": "code",
   "execution_count": 14,
   "metadata": {},
   "outputs": [
    {
     "data": {
      "text/plain": [
       "<Run: data=<RunData: metrics={'TT': 2.4}, params={'bootstrap': 'True',\n",
       " 'ccp_alpha': '0.0',\n",
       " 'class_weight': 'None',\n",
       " 'criterion': 'gini',\n",
       " 'max_depth': '10',\n",
       " 'max_features': 'sqrt',\n",
       " 'max_leaf_nodes': 'None',\n",
       " 'max_samples': 'None',\n",
       " 'min_impurity_decrease': '0.0',\n",
       " 'min_samples_leaf': '1',\n",
       " 'min_samples_split': '2',\n",
       " 'min_weight_fraction_leaf': '0.0',\n",
       " 'monotonic_cst': 'None',\n",
       " 'n_estimators': '100',\n",
       " 'n_jobs': '-1',\n",
       " 'oob_score': 'False',\n",
       " 'random_state': '123',\n",
       " 'verbose': '0',\n",
       " 'warm_start': 'False'}, tags={'Run ID': 'b052583d44b84a86a1e94d59268687d0',\n",
       " 'Run Time': '2.57',\n",
       " 'Source': 'finalize_model',\n",
       " 'URI': '14f46ec0',\n",
       " 'USI': '9c75',\n",
       " 'mlflow.log-model.history': '[{\"run_id\": \"b052583d44b84a86a1e94d59268687d0\", '\n",
       "                             '\"artifact_path\": \"model\", \"utc_time_created\": '\n",
       "                             '\"2024-10-22 07:12:57.827031\", \"model_uuid\": '\n",
       "                             '\"f55e185193144a2a92370f71a25a7d2b\", \"flavors\": '\n",
       "                             '{\"python_function\": {\"model_path\": \"model.pkl\", '\n",
       "                             '\"predict_fn\": \"predict\", \"loader_module\": '\n",
       "                             '\"mlflow.sklearn\", \"python_version\": \"3.11.1\", '\n",
       "                             '\"env\": {\"conda\": \"conda.yaml\", \"virtualenv\": '\n",
       "                             '\"python_env.yaml\"}}, \"sklearn\": '\n",
       "                             '{\"pickled_model\": \"model.pkl\", '\n",
       "                             '\"sklearn_version\": \"1.4.2\", '\n",
       "                             '\"serialization_format\": \"cloudpickle\", \"code\": '\n",
       "                             'null}}}]',\n",
       " 'mlflow.parentRunId': 'c47d5a0376284d4d81844955dd777bfb',\n",
       " 'mlflow.runName': 'Random Forest Classifier',\n",
       " 'mlflow.source.git.commit': '62c4b610800d1d043b63de284a64050e2d563c41',\n",
       " 'mlflow.source.name': 'e:\\\\User\\\\Documents\\\\Rid\\\\DMC\\\\Diplomado Data '\n",
       "                       'Architect\\\\ML\\\\Eval_Dar5\\\\mlopsenv\\\\Lib\\\\site-packages\\\\ipykernel_launcher.py',\n",
       " 'mlflow.source.type': 'LOCAL',\n",
       " 'mlflow.user': 'User'}>, info=<RunInfo: artifact_uri='file:///e:/User/Documents/Rid/DMC/Diplomado%20Data%20Architect/ML/Eval_Dar5/notebooks/mlruns/174269768005723102/b052583d44b84a86a1e94d59268687d0/artifacts', end_time=1729581177897, experiment_id='174269768005723102', lifecycle_stage='active', run_id='b052583d44b84a86a1e94d59268687d0', run_name='Random Forest Classifier', run_uuid='b052583d44b84a86a1e94d59268687d0', start_time=1729581177678, status='FINISHED', user_id='User'>, inputs=<RunInputs: dataset_inputs=[]>>"
      ]
     },
     "execution_count": 14,
     "metadata": {},
     "output_type": "execute_result"
    }
   ],
   "source": [
    "runs"
   ]
  },
  {
   "cell_type": "code",
   "execution_count": 15,
   "metadata": {},
   "outputs": [],
   "source": [
    "run_id=runs.data.tags['Run ID']"
   ]
  },
  {
   "cell_type": "code",
   "execution_count": 16,
   "metadata": {},
   "outputs": [
    {
     "data": {
      "text/plain": [
       "'b052583d44b84a86a1e94d59268687d0'"
      ]
     },
     "execution_count": 16,
     "metadata": {},
     "output_type": "execute_result"
    }
   ],
   "source": [
    "#como tenemos el id  podemos utilizarlo para obtener los artefactos\n",
    "run_id"
   ]
  },
  {
   "cell_type": "code",
   "execution_count": 53,
   "metadata": {},
   "outputs": [
    {
     "data": {
      "text/plain": [
       "array([0, 0, 0, ..., 0, 0, 0], dtype=int8)"
      ]
     },
     "execution_count": 53,
     "metadata": {},
     "output_type": "execute_result"
    }
   ],
   "source": [
    "import mlflow\n",
    "logged_model = f'runs:/{run_id}/model'\n",
    "\n",
    "# Load model as a PyFuncModel.\n",
    "loaded_model = mlflow.pyfunc.load_model(logged_model)\n",
    "\n",
    "# Predict on a Pandas DataFrame.\n",
    "import pandas as pd\n",
    "exclude_variables=['id','CustomerId','Surname']\n",
    "loaded_model.predict(data.drop(columns=exclude_variables+['Exited']))"
   ]
  },
  {
   "cell_type": "code",
   "execution_count": 20,
   "metadata": {},
   "outputs": [
    {
     "name": "stderr",
     "output_type": "stream",
     "text": [
      "Successfully registered model 'Bank_Churn_model'.\n",
      "2024/10/22 12:09:40 INFO mlflow.store.model_registry.abstract_store: Waiting up to 300 seconds for model version to finish creation. Model name: Bank_Churn_model, version 1\n",
      "Created version '1' of model 'Bank_Churn_model'.\n"
     ]
    },
    {
     "data": {
      "text/plain": [
       "<ModelVersion: aliases=[], creation_timestamp=1729616980716, current_stage='None', description='', last_updated_timestamp=1729616980716, name='Bank_Churn_model', run_id='b052583d44b84a86a1e94d59268687d0', run_link='', source='file:///e:/User/Documents/Rid/DMC/Diplomado%20Data%20Architect/ML/Eval_Dar5/notebooks/mlruns/174269768005723102/b052583d44b84a86a1e94d59268687d0/artifacts/model', status='READY', status_message='', tags={}, user_id='', version='1'>"
      ]
     },
     "execution_count": 20,
     "metadata": {},
     "output_type": "execute_result"
    }
   ],
   "source": [
    "#utilizar en el entorno de produccion\n",
    "#registrar un modelo el mejor pase por el proceso de validacion\n",
    "# el modelo se registra en el servidor de mlflow\n",
    "# se registra en funcion de run_id y poder colocar un nombre\n",
    "\n",
    "mlflow.register_model(f\"runs:/{run_id}/model\", \"Bank_Churn_model\")"
   ]
  },
  {
   "cell_type": "code",
   "execution_count": 58,
   "metadata": {},
   "outputs": [
    {
     "data": {
      "text/plain": [
       "<ModelVersion: aliases=[], creation_timestamp=1729616980716, current_stage='Production', description='', last_updated_timestamp=1729622147822, name='Bank_Churn_model', run_id='b052583d44b84a86a1e94d59268687d0', run_link='', source='file:///e:/User/Documents/Rid/DMC/Diplomado%20Data%20Architect/ML/Eval_Dar5/notebooks/mlruns/174269768005723102/b052583d44b84a86a1e94d59268687d0/artifacts/model', status='READY', status_message='', tags={}, user_id='', version='1'>"
      ]
     },
     "execution_count": 58,
     "metadata": {},
     "output_type": "execute_result"
    }
   ],
   "source": [
    "client.transition_model_version_stage(name='Bank_Churn_model',version=1,stage='Production')"
   ]
  },
  {
   "cell_type": "code",
   "execution_count": 64,
   "metadata": {},
   "outputs": [
    {
     "name": "stdout",
     "output_type": "stream",
     "text": [
      "<class 'pandas.core.frame.DataFrame'>\n",
      "RangeIndex: 165034 entries, 0 to 165033\n",
      "Data columns (total 14 columns):\n",
      " #   Column           Non-Null Count   Dtype  \n",
      "---  ------           --------------   -----  \n",
      " 0   id               165034 non-null  int64  \n",
      " 1   CustomerId       165034 non-null  int64  \n",
      " 2   Surname          165034 non-null  object \n",
      " 3   CreditScore      165034 non-null  int64  \n",
      " 4   Geography        165034 non-null  object \n",
      " 5   Gender           165034 non-null  object \n",
      " 6   Age              165034 non-null  float64\n",
      " 7   Tenure           165034 non-null  int64  \n",
      " 8   Balance          165034 non-null  float64\n",
      " 9   NumOfProducts    165034 non-null  int64  \n",
      " 10  HasCrCard        165034 non-null  float64\n",
      " 11  IsActiveMember   165034 non-null  float64\n",
      " 12  EstimatedSalary  165034 non-null  float64\n",
      " 13  Exited           165034 non-null  int64  \n",
      "dtypes: float64(5), int64(6), object(3)\n",
      "memory usage: 17.6+ MB\n"
     ]
    }
   ],
   "source": [
    "data.info()"
   ]
  },
  {
   "cell_type": "code",
   "execution_count": 50,
   "metadata": {},
   "outputs": [
    {
     "data": {
      "text/plain": [
       "array([0, 0, 0, ..., 0, 0, 0], dtype=int8)"
      ]
     },
     "execution_count": 50,
     "metadata": {},
     "output_type": "execute_result"
    }
   ],
   "source": [
    "#la carga del modelo en produccion es desde el estado de produccion\n",
    "import mlflow\n",
    "logged_model = f'models:/Bank_Churn_model/Production'\n",
    "\n",
    "# Load model as a PyFuncModel.\n",
    "loaded_model = mlflow.pyfunc.load_model(logged_model)\n",
    "\n",
    "# Predict on a Pandas DataFrame.\n",
    "import pandas as pd\n",
    "exclude_variables=['id','CustomerId','Surname']\n",
    "loaded_model.predict(data.drop(columns=exclude_variables+['Exited']))"
   ]
  },
  {
   "cell_type": "code",
   "execution_count": 57,
   "metadata": {},
   "outputs": [
    {
     "name": "stderr",
     "output_type": "stream",
     "text": [
      "Registered model 'Bank_Churn_Prod' already exists. Creating a new version of this model...\n",
      "2024/10/22 12:56:51 INFO mlflow.store.model_registry.abstract_store: Waiting up to 300 seconds for model version to finish creation. Model name: Bank_Churn_Prod, version 4\n",
      "Created version '4' of model 'Bank_Churn_Prod'.\n"
     ]
    }
   ],
   "source": [
    "logged_model = f'runs:/{run_id}/model'\n",
    "\n",
    "#tag al modelo:\n",
    "\n",
    "registered_model = mlflow.register_model(logged_model,'Bank_Churn_Prod')\n",
    "\n",
    "# Obtener la versión del modelo registrado\n",
    "\n",
    "model_version = registered_model.version\n",
    "\n",
    "# Asignar la etiqueta (tag) al modelo registrado\n",
    "\n",
    "client.set_model_version_tag(\n",
    "\n",
    "    name='Bank_Churn_Prod',\n",
    "\n",
    "    version=model_version,\n",
    "\n",
    "    key=\"Autor\",\n",
    "\n",
    "    value=\"Ridgway Santillan\"\n",
    ")\n"
   ]
  }
 ],
 "metadata": {
  "kernelspec": {
   "display_name": "mlopsenv",
   "language": "python",
   "name": "python3"
  },
  "language_info": {
   "codemirror_mode": {
    "name": "ipython",
    "version": 3
   },
   "file_extension": ".py",
   "mimetype": "text/x-python",
   "name": "python",
   "nbconvert_exporter": "python",
   "pygments_lexer": "ipython3",
   "version": "3.11.1"
  }
 },
 "nbformat": 4,
 "nbformat_minor": 2
}
